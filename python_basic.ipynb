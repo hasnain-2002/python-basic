{
  "nbformat": 4,
  "nbformat_minor": 0,
  "metadata": {
    "colab": {
      "provenance": []
    },
    "kernelspec": {
      "name": "python3",
      "display_name": "Python 3"
    },
    "language_info": {
      "name": "python"
    }
  },
  "cells": [
    {
      "cell_type": "markdown",
      "source": [
        "Practical Q&A"
      ],
      "metadata": {
        "id": "hOWKbb6WY4fe"
      }
    },
    {
      "cell_type": "code",
      "execution_count": 1,
      "metadata": {
        "colab": {
          "base_uri": "https://localhost:8080/"
        },
        "id": "IuRkKdCkYu7M",
        "outputId": "167ec3d8-e8ac-4a8c-bc8f-4211902297b2"
      },
      "outputs": [
        {
          "output_type": "stream",
          "name": "stdout",
          "text": [
            "Hello, world!\n"
          ]
        }
      ],
      "source": [
        "# 1)WAP to print \"Hello, world!\"\n",
        "print(\"Hello, world!\")"
      ]
    },
    {
      "cell_type": "code",
      "source": [
        "# 2)WAP that display your name and age.\n",
        "name = input(\"Enter your name: \")\n",
        "age = input(\"Enter your age: \")\n",
        "print(\"Your name is\", name, \"and your age is\", age)"
      ],
      "metadata": {
        "colab": {
          "base_uri": "https://localhost:8080/"
        },
        "id": "yVs6fZ3FZgF0",
        "outputId": "1f09b5fb-0012-432f-c1dd-c76b33f0c0b4"
      },
      "execution_count": 2,
      "outputs": [
        {
          "output_type": "stream",
          "name": "stdout",
          "text": [
            "Enter your name: hashnen\n",
            "Enter your age: 19\n",
            "Your name is hashnen and your age is 19\n"
          ]
        }
      ]
    },
    {
      "cell_type": "code",
      "source": [
        "#3)Write a code to print all the pre defined keywords in python using the keyword library.\n",
        "help('keywords')"
      ],
      "metadata": {
        "colab": {
          "base_uri": "https://localhost:8080/"
        },
        "id": "RtBeFt__aVdZ",
        "outputId": "250bef5c-5415-4b66-c1d1-80a1ef856c6d"
      },
      "execution_count": 5,
      "outputs": [
        {
          "output_type": "stream",
          "name": "stdout",
          "text": [
            "\n",
            "Here is a list of the Python keywords.  Enter any keyword to get more help.\n",
            "\n",
            "False               class               from                or\n",
            "None                continue            global              pass\n",
            "True                def                 if                  raise\n",
            "and                 del                 import              return\n",
            "as                  elif                in                  try\n",
            "assert              else                is                  while\n",
            "async               except              lambda              with\n",
            "await               finally             nonlocal            yield\n",
            "break               for                 not                 \n",
            "\n"
          ]
        }
      ]
    },
    {
      "cell_type": "code",
      "source": [
        "#4)Wap that checks if a given word is a python keyword.\n",
        "import keyword\n",
        "word = input(\"Enter a word: \")\n",
        "if keyword.iskeyword(word):\n",
        "    print(word, \"is a python keyword\")\n",
        "else:\n",
        "    print(word, \"is not a python keyword\")"
      ],
      "metadata": {
        "colab": {
          "base_uri": "https://localhost:8080/"
        },
        "id": "kw5U4hGfbE8Z",
        "outputId": "97bc698c-257b-4026-a5dd-622980a1f75b"
      },
      "execution_count": 7,
      "outputs": [
        {
          "output_type": "stream",
          "name": "stdout",
          "text": [
            "Enter a word: while\n",
            "while is a python keyword\n"
          ]
        }
      ]
    },
    {
      "cell_type": "code",
      "source": [
        "#5)create a list and tuple in python and demonstrate how attempting to change an element works differently for each.\n",
        "my_list = [1, 2, 3, 4, 5]\n",
        "my_tuple = (1, 2, 3, 4, 5)\n",
        "my_list[0] = 10\n",
        "print(my_list)"
      ],
      "metadata": {
        "colab": {
          "base_uri": "https://localhost:8080/"
        },
        "id": "P2tVOYmobo-D",
        "outputId": "8d0606c9-5770-45d3-fa39-13aa4e7fa610"
      },
      "execution_count": 8,
      "outputs": [
        {
          "output_type": "stream",
          "name": "stdout",
          "text": [
            "[10, 2, 3, 4, 5]\n"
          ]
        }
      ]
    },
    {
      "cell_type": "code",
      "source": [
        "#6)write a function to demonstrate the behaviour of mutable and immutable arguments.\n",
        "def change_list(my_list):\n",
        "    my_list.append(6)\n",
        "my_list = [1, 2, 3, 4, 5]\n",
        "change_list(my_list)\n",
        "print(my_list)"
      ],
      "metadata": {
        "colab": {
          "base_uri": "https://localhost:8080/"
        },
        "id": "XLKm-V8icel_",
        "outputId": "cd399c76-10df-44c3-f539-0f3812f3a34a"
      },
      "execution_count": 9,
      "outputs": [
        {
          "output_type": "stream",
          "name": "stdout",
          "text": [
            "[1, 2, 3, 4, 5, 6]\n"
          ]
        }
      ]
    },
    {
      "cell_type": "code",
      "source": [
        "#7)write a program to demonstrate the use of logical operator.\n",
        "x = 5\n",
        "y = 10\n",
        "z = 15\n",
        "if x > 0 and y > 0:\n",
        "    print(\"Both x and y are positive\")\n",
        "if z > 0 or y > 0:\n",
        "    print(\"Either z or y is positive\")"
      ],
      "metadata": {
        "colab": {
          "base_uri": "https://localhost:8080/"
        },
        "id": "rHBOBlTDcxap",
        "outputId": "3e5bec24-165d-470c-be22-7a305b55ac1e"
      },
      "execution_count": 10,
      "outputs": [
        {
          "output_type": "stream",
          "name": "stdout",
          "text": [
            "Both x and y are positive\n",
            "Either z or y is positive\n"
          ]
        }
      ]
    },
    {
      "cell_type": "code",
      "source": [
        "#8)write a python program to convert user input from string to integer,float and boolean types.\n",
        "x = input(\"Enter a number: \")\n",
        "x = int(x)\n",
        "print(type(x))\n",
        "x = float(x)\n",
        "print(type(x))\n",
        "x = bool(x)\n",
        "print(type(x))"
      ],
      "metadata": {
        "colab": {
          "base_uri": "https://localhost:8080/"
        },
        "id": "YV5U8JjvdH8B",
        "outputId": "67257c17-f02f-4326-f0b9-e5bbd18aacc7"
      },
      "execution_count": 11,
      "outputs": [
        {
          "output_type": "stream",
          "name": "stdout",
          "text": [
            "Enter a number: 2\n",
            "<class 'int'>\n",
            "<class 'float'>\n",
            "<class 'bool'>\n"
          ]
        }
      ]
    },
    {
      "cell_type": "code",
      "source": [
        "#9) write a code to demonstrate type casting with list element.\n",
        "x = [1, 2, 3, 4, 5]\n",
        "x = str(x)\n",
        "print(type(x))"
      ],
      "metadata": {
        "colab": {
          "base_uri": "https://localhost:8080/"
        },
        "id": "mKgO-oOGdisg",
        "outputId": "82196ac2-638a-4332-c5eb-f8af9da7f53c"
      },
      "execution_count": 12,
      "outputs": [
        {
          "output_type": "stream",
          "name": "stdout",
          "text": [
            "<class 'str'>\n"
          ]
        }
      ]
    },
    {
      "cell_type": "code",
      "source": [
        "#10)write a program that check if a number is positive,negative or zero.\n",
        "x = int(input(\"Enter a number: \"))\n",
        "if x > 0:\n",
        "    print(\"The number is positive\")\n",
        "elif x < 0:\n",
        "    print(\"The number is negative\")\n",
        "else:\n",
        "    print(\"The number is zero\")"
      ],
      "metadata": {
        "colab": {
          "base_uri": "https://localhost:8080/"
        },
        "id": "Y-asCW0ieAMN",
        "outputId": "c1ec9272-c90b-41a5-ba02-b95c2afffa7e"
      },
      "execution_count": 14,
      "outputs": [
        {
          "output_type": "stream",
          "name": "stdout",
          "text": [
            "Enter a number: -5\n",
            "The number is negative\n"
          ]
        }
      ]
    },
    {
      "cell_type": "code",
      "source": [
        "#11)write a for loop to print number from 1 to 10.\n",
        "for i in range(1, 11):\n",
        "    print(i)"
      ],
      "metadata": {
        "colab": {
          "base_uri": "https://localhost:8080/"
        },
        "id": "TFerYRmUednE",
        "outputId": "fd152369-cbb2-4fb8-c383-aa9d4fb73f0d"
      },
      "execution_count": 15,
      "outputs": [
        {
          "output_type": "stream",
          "name": "stdout",
          "text": [
            "1\n",
            "2\n",
            "3\n",
            "4\n",
            "5\n",
            "6\n",
            "7\n",
            "8\n",
            "9\n",
            "10\n"
          ]
        }
      ]
    },
    {
      "cell_type": "code",
      "source": [
        "#12)write a python program to find the sum of all even numbers between 1 and 50.\n",
        "sum = 0\n",
        "for i in range(1, 51):\n",
        "    if i % 2 == 0:\n",
        "        sum += i\n",
        "print(sum)"
      ],
      "metadata": {
        "colab": {
          "base_uri": "https://localhost:8080/"
        },
        "id": "w0LBCZ3meqoB",
        "outputId": "86e1e506-e2a2-46c4-9175-6cf668735f24"
      },
      "execution_count": 16,
      "outputs": [
        {
          "output_type": "stream",
          "name": "stdout",
          "text": [
            "650\n"
          ]
        }
      ]
    },
    {
      "cell_type": "code",
      "source": [
        "#13)write a program to reverse a string using a while  loop.\n",
        "x = input(\"Enter a string: \")\n",
        "i = len(x) - 1\n",
        "while i >= 0:\n",
        "    print(x[i], end=\"\")\n",
        "    i -= 1"
      ],
      "metadata": {
        "colab": {
          "base_uri": "https://localhost:8080/"
        },
        "id": "WGfauKmMe7rc",
        "outputId": "d2c00c71-1abc-4a80-9126-427b111fe393"
      },
      "execution_count": 17,
      "outputs": [
        {
          "output_type": "stream",
          "name": "stdout",
          "text": [
            "Enter a string: 10\n",
            "01"
          ]
        }
      ]
    },
    {
      "cell_type": "code",
      "source": [
        "#14)write a python program to calculate the factorial of a number provided by the user using a while loop.\n",
        "x = int(input(\"Enter a number: \"))\n",
        "factorial = 1\n",
        "while x > 0:\n",
        "    factorial *= x\n",
        "    x -= 1\n",
        "print(factorial)"
      ],
      "metadata": {
        "colab": {
          "base_uri": "https://localhost:8080/"
        },
        "id": "yeGsnamtfPht",
        "outputId": "52ca1b34-1abd-4f3e-d830-0c84b426ef55"
      },
      "execution_count": 18,
      "outputs": [
        {
          "output_type": "stream",
          "name": "stdout",
          "text": [
            "Enter a number: 5\n",
            "120\n"
          ]
        }
      ]
    },
    {
      "cell_type": "markdown",
      "source": [
        "Theory qNa"
      ],
      "metadata": {
        "id": "MiFwv8MLfjVY"
      }
    },
    {
      "cell_type": "markdown",
      "source": [
        "1) What is Python, and why is it popular?\n",
        "Python is a high-level, interpreted programming language known for its simplicity, readability, and versatility.\n",
        "It is popular because  it  used for a variety of tasks, including web development, data analysis, machine learning, automation, and more.\n",
        "\n",
        "2) What is an interpreter in Python?\n",
        "An interpreter in Python is a program that reads and executes Python code line by line.\n",
        "\n",
        "3)What are pre-defined keywords in Python?\n",
        "Pre-defined keywords in Python are reserved words that the Python interpreter recognizes and uses for specific functionality. These keywords cannot be used as identifiers (like variable names) because they have a special meaning in the language. Examples include: if, else, while, try, for, class, import, etc.\n",
        "\n",
        "4) Can keywords be used as variable names?\n",
        "No, keywords cannot be used as variable names in Python. They are reserved for the language’s syntax and have a predefined role in the program. Trying to use a keyword as a variable name will result in a syntax error.\n",
        "\n",
        "5) What is mutability in Python?\n",
        "Mutability refers to whether or not an object’s state can be changed after it is created. Mutable objects can have their values changed, while immutable objects cannot.\n",
        "\n",
        "6) Why are lists mutable, but tuples are immutable?\n",
        "Lists are mutable, meaning you can modify their elements after they’ve been created (e.g., append, remove, or change items).\n",
        "Tuples are immutable, meaning once a tuple is created, its elements cannot be changed. This is because tuples are often used for fixed collections of data, providing a guarantee that their values will not change.\n",
        "\n",
        "7)What is the difference between “==” and “is” operators in Python?\n",
        "== checks if the values of two objects are the same. It compares the data or content inside the objects.\n",
        "is checks if two variables point to the same object in memory. It compares the memory address, not the content.\n",
        "For example:\n",
        "\n",
        "a = [1, 2, 3]\n",
        "b = a\n",
        "print(a == b)  # True (content is the same)\n",
        "print(a is b)  # True (both refer to the same object)\n",
        "\n",
        "8)What are logical operators in Python?\n",
        "Logical operators are used to combine conditional statements and return a boolean result. In Python, the main logical operators are:\n",
        "\n",
        "and: Returns True if both conditions are true.\n",
        "or: Returns True if at least one of the conditions is true.\n",
        "not: Reverses the result, returns True if the condition is false, and vice versa.\n",
        "\n",
        "9)What is type casting in Python?\n",
        "Type casting is the process of converting one data type into another. Python provides functions like int(), float(), str(), etc., to convert between types.\n",
        "\n",
        "For example:\n",
        "x = \"123\"\n",
        "y = int(x)  # Convert string to integer\n",
        "\n",
        "10) What is the difference between implicit and explicit type casting?\n",
        "Implicit type casting (also called type coercion) is when Python automatically converts one data type to another. For example, if you add an integer and a float, Python will automatically convert the integer to a float.\n",
        "\n",
        "Explicit type casting is when the programmer manually converts one type to another using functions like int(), float(), etc.\n",
        "\n",
        "\n",
        "11) What is the purpose of conditional statements in Python?\n",
        "Conditional statements are used to make decisions in your code. They allow the program to execute certain blocks of code based on whether a condition (or multiple conditions) are True or False. The most common conditional statements are if, elif, and else.\n",
        "\n",
        "12) How does the elif statement work?\n",
        "elif stands for \"else if\" and is used to check multiple conditions after the initial if. If the if condition is False, it checks the elif conditions one by one. If none of them are True, it defaults to the else block (if provided).\n",
        "\n",
        "Example:\n",
        "\n",
        "x = 20\n",
        "if x < 10:\n",
        "    print(\"x is less than 10\")\n",
        "elif x < 30:\n",
        "    print(\"x is less than 30\")  # This will be printed\n",
        "else:\n",
        "    print(\"x is 30 or more\")\n",
        "\n",
        "13) What is the difference between for and while loops?\n",
        "for loop is used to iterate over a sequence (like a list, tuple, string, or range) and automatically stops when the sequence is exhausted.\n",
        "\n",
        "for i in range(5):\n",
        "    print(i)  # Prints numbers 0 to 4\n",
        "\n",
        "while loop continues to execute as long as a specified condition remains True. It requires manual management of the condition (e.g., incrementing a counter).\n",
        "\n",
        "i = 0\n",
        "while i < 5:\n",
        "    print(i)  # Prints numbers 0 to 4\n",
        "    i += 1\n",
        "14) Describe a scenario where a while loop is more suitable than a for loop.\n",
        "A while loop is more suitable when you don’t know how many iterations you’ll need beforehand and the loop should continue until a certain condition is met."
      ],
      "metadata": {
        "id": "NAq2SfxRfoy7"
      }
    },
    {
      "cell_type": "markdown",
      "source": [],
      "metadata": {
        "id": "r30recO9YwlR"
      }
    }
  ]
}